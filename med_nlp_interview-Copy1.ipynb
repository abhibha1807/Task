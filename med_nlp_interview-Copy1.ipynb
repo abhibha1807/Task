{
 "cells": [
  {
   "cell_type": "markdown",
   "id": "b79f7e16",
   "metadata": {},
   "source": [
    "# Load dataset"
   ]
  },
  {
   "cell_type": "code",
   "execution_count": null,
   "id": "a7e531bb",
   "metadata": {},
   "outputs": [],
   "source": [
    "import pandas as pd"
   ]
  },
  {
   "cell_type": "code",
   "execution_count": null,
   "id": "c9a6e0d8",
   "metadata": {},
   "outputs": [],
   "source": [
    "df = pd.read_csv('mtsamples.csv')\n",
    "df.head()"
   ]
  },
  {
   "cell_type": "code",
   "execution_count": null,
   "id": "86221465",
   "metadata": {},
   "outputs": [],
   "source": [
    "len(df['description']) # 4999 instances"
   ]
  },
  {
   "cell_type": "code",
   "execution_count": null,
   "id": "8933677f",
   "metadata": {},
   "outputs": [],
   "source": [
    "# import nltk\n",
    "# nltk.download()"
   ]
  },
  {
   "cell_type": "markdown",
   "id": "694f5d95",
   "metadata": {},
   "source": [
    "## Gender"
   ]
  },
  {
   "cell_type": "code",
   "execution_count": null,
   "id": "b5a67dfb",
   "metadata": {},
   "outputs": [],
   "source": [
    "#extract gender\n",
    "import nltk\n",
    "#define dictionary\n",
    "gender_words = ['male', 'man', 'boy', 'gentleman', 'female', 'woman', 'girl', 'lady', 'Male', 'Female', 'Man', \n",
    "                'Woman', 'Boy', 'Girl', 'Gentleman', 'Lady']\n",
    "\n",
    "final_gender = []\n",
    "\n",
    "extract_words = []\n",
    "not_extract_words = []\n",
    "c = 0\n",
    "\n",
    "med_spec = list(df['medical_specialty'])\n",
    "samp_name = list(df['sample_name'])\n",
    "trans = list(df['transcription'])\n",
    "key = list(df['keywords'])\n",
    "\n",
    "for i in list(df['description']):\n",
    "    flag1 = 0\n",
    "    flag2 = 0\n",
    "    new_i = ' ' + i\n",
    "    for j in gender_words:\n",
    "        if ' '+j+' ' in new_i or ' '+j+',' in new_i or ','+j+' ' in new_i or ','+j in new_i or ' '+j+'.' in new_i or '.'+j in new_i :\n",
    "          \n",
    "            if j in ['male', 'man', 'boy', 'gentleman', 'Male', 'Man', 'Boy', 'Gentleman']: \n",
    "                final_gender.append([i, med_spec[c], samp_name[c], trans[c],key[c],'Male'])\n",
    "                flag2 = 1\n",
    "            else:\n",
    "                flag2 = 1\n",
    "                final_gender.append([i, med_spec[c], samp_name[c], trans[c],key[c], 'Female'])\n",
    "   \n",
    "    #use POS tagger\n",
    "    if flag2!= 1:\n",
    "        wordsList = nltk.word_tokenize(i)\n",
    "        tagged = nltk.pos_tag(wordsList)\n",
    "\n",
    "        for tag_pair in tagged:\n",
    "            if tag_pair[1] == 'PRP':\n",
    "                if tag_pair[0] == 'He' or tag_pair[0] == 'he':\n",
    "                    final_gender.append([i, med_spec[c], samp_name[c], trans[c],key[c], 'Male'])\n",
    "                    flag2 = 1\n",
    "                    flag1 = 1\n",
    "                if tag_pair[0] == 'She' or tag_pair[0] == 'she':\n",
    "                    flag2 = 1\n",
    "                    final_gender.append([i, med_spec[c], samp_name[c], trans[c],key[c],  'Female'])\n",
    "                    flag1 = 1\n",
    "           \n",
    "            if tag_pair[1] == 'PRP$':\n",
    "                if tag_pair[0] == 'Him' or tag_pair[0] == 'him':\n",
    "                    final_gender.append([i, med_spec[c], samp_name[c], trans[c],key[c],  'Male'])\n",
    "                    flag2 = 1\n",
    "                if tag_pair[0] == 'Her' or tag_pair[0] == 'her':\n",
    "                    flag2 = 1\n",
    "                    final_gender.append([i, med_spec[c], samp_name[c], trans[c],key[c], 'Female'])\n",
    "              \n",
    "                \n",
    "    if flag2 == 0:\n",
    "        final_gender.append([i, med_spec[c], samp_name[c], trans[c],key[c], 'none'])\n",
    "    c = c + 1\n"
   ]
  },
  {
   "cell_type": "code",
   "execution_count": null,
   "id": "578421dc",
   "metadata": {
    "scrolled": true
   },
   "outputs": [],
   "source": [
    "df_final_gender = pd.DataFrame(final_gender, columns = ['Description', 'Medical_specialty', 'Sample_name', 'Transcription', 'Keyword', 'Gender'])\n",
    "mask = df_final_gender.duplicated(keep='first')\n",
    "\n",
    "# drop the duplicate rows (Sentence: He is ..., He was then..., 'Male' detected twice, so remove those rows.)\n",
    "df_final_gender = df_final_gender[~mask]\n"
   ]
  },
  {
   "cell_type": "markdown",
   "id": "ee78e4ef",
   "metadata": {},
   "source": [
    "## Age"
   ]
  },
  {
   "cell_type": "code",
   "execution_count": null,
   "id": "bbcdfd25",
   "metadata": {},
   "outputs": [],
   "source": [
    "import re\n",
    "regexes = [\n",
    "    r'\\b\\d{1,2}\\s*(?:year[s]?|yrs?)[\\s-]old\\b',  # e.g. \"18-years-old\", \"2-year-old\"\n",
    "    r'\\b\\d{1,2}\\s*-\\s*(?:year[s]?|yrs?)-old\\b',  # e.g. \"2-year-old\", \"90-years-old\"\n",
    "    r'\\b\\d{1,2}\\s*month[s]?[\\s-]old\\b',  # e.g. \"1 month old\", \"2 months old\"\n",
    "    r'\\b\\d{1,2}\\s*-\\s*month[s]?-old\\b',  # e.g. \"2-month-old\", \"11-months-old\"\n",
    "    r'\\d{1,2}\\s?day(?:s)?\\sold',  # e.g. \"1 day old\", \"2 days old\"\n",
    "    r'\\d{1,2}-day(?:s)?-old', # e.g. \"2-month-old\", \"11-months-old\"\n",
    "    r'\\d{1,2}\\s?week(?:s)?\\sold', r'\\d{1,2}-week(?:s)?-old',\n",
    "    r'(?<!\\ )\\b\\d+\\s*(?:day|week|month|year)s?\\s*of\\s*age\\b', # 2 years of age\n",
    "    r'middle-aged|middle aged|middle-ages|young age|old age|gestational age',\n",
    "    r\"\\b\\d{1,3}-years\\s+old\\b\", #1-years old\n",
    "    r\"\\b\\d{1,3}-year\\s+old\\b\",#1-year old\n",
    "    r\"\\b\\d{1,3}-months\\s+old\\b\",#1-months old\n",
    "    r\"\\b\\d{1,3}-month\\s+old\\b\",#1-month old\n",
    "    r\"\\b\\d{1,3}-weeks\\s+old\\b\",#1-weeks old\n",
    "    r\"\\b\\d{1,3}-week\\s+old\\b\",#1-week old\n",
    "    r\"\\b\\d{1,3}-days\\s+old\\b\",#1-days old\n",
    "    r\"\\b\\d{1,3}-day\\s+old\\b\", #1-day old\n",
    "    r'\\b\\d+-years?\\b|\\b\\d+-year\\b' \n",
    "    r'\\b\\d+(?:-\\d+)?(?:/\\d+)?-?(?:year|years)-old?\\b',\n",
    "    r'\\b\\d+-?\\d*/\\d+ year(?:s?-old)?'\n",
    "    \n",
    "]\n",
    "\n",
    "null_ages = []\n",
    "ages = []\n",
    "final_ages = []\n",
    "for i in list(df['description']):\n",
    "    age = []\n",
    "    for regex in regexes:\n",
    "        age += re.findall(regex, i)\n",
    "    if len(age) == 0:\n",
    "        final_ages.append([i,age])\n",
    "    else:\n",
    "        final_ages.append([i,age])\n"
   ]
  },
  {
   "cell_type": "markdown",
   "id": "5367b81d",
   "metadata": {},
   "source": [
    "## Treatment"
   ]
  },
  {
   "cell_type": "code",
   "execution_count": null,
   "id": "c94e2903",
   "metadata": {},
   "outputs": [],
   "source": [
    "from transformers import pipeline\n",
    "qa_model = pipeline(\"question-answering\")"
   ]
  },
  {
   "cell_type": "code",
   "execution_count": null,
   "id": "b85451b9",
   "metadata": {},
   "outputs": [],
   "source": [
    "\n",
    "treatment = []\n",
    "c=0\n",
    "question = \"What is the treatment administered to the patient?\"\n",
    "for i in list(df['transcription']):\n",
    "    try:\n",
    "        ans = qa_model(question = question, context = i)\n",
    "    except:\n",
    "        continue\n",
    "    treatment.append([i,ans['answer']])\n"
   ]
  }
 ],
 "metadata": {
  "kernelspec": {
   "display_name": "Python 3 (ipykernel)",
   "language": "python",
   "name": "python3"
  },
  "language_info": {
   "codemirror_mode": {
    "name": "ipython",
    "version": 3
   },
   "file_extension": ".py",
   "mimetype": "text/x-python",
   "name": "python",
   "nbconvert_exporter": "python",
   "pygments_lexer": "ipython3",
   "version": "3.9.13"
  }
 },
 "nbformat": 4,
 "nbformat_minor": 5
}
